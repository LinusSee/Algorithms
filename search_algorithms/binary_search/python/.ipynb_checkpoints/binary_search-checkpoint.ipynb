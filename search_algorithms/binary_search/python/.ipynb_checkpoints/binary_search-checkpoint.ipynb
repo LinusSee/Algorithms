{
 "cells": [
  {
   "cell_type": "markdown",
   "metadata": {},
   "source": [
    "# Binary search\n",
    "Binary search is an algorithm to search for a value in a sorted array. It is a pretty quick algorithm, provided the array is sorted.\n",
    "<br>\n",
    "<br>\n",
    "The idea is that you always check the middle element of your array and then have three possible cases:\n",
    "1. You already found the element. In that case you can stop searching\n",
    "2. The element you checked is lower than the one you are looking for. In that case the number you are looking for, <br> if it exists, must be in the upper half of the array\n",
    "3. The element you checked is higher than the one you are looking for. In that case the number you are looking for, <br> if it exists, must be in the lower half of the array\n",
    "\n",
    "This is why the array must be sorted, otherwise you could not constrain it by looking at the middle value.\n",
    "<br>\n",
    "These three steps are repeated for your current array (halving it with every step) until you either found the element or are at size 1 or less where you know for sure whether the subarray contains your value or not."
   ]
  },
  {
   "cell_type": "markdown",
   "metadata": {},
   "source": [
    "## Example walkthrough\n",
    "To view an example going through the algorithm step by step your can view [this PDF](https://github.com/LinusSee/Algorithms/blob/master/search_algorithms/assets/binary_search/binary_search_example.pdf). If you are just interested in a code example, you can find an iterative and a recursive version below."
   ]
  },
  {
   "cell_type": "markdown",
   "metadata": {},
   "source": [
    "## Runtime\n",
    "The runtime of binary search is $\\mathcal{O}(\\log_2 {n})$ or just $\\mathcal{O}(\\log{n})$.\n",
    "<br>\n",
    "The reason for this is, that you halv the array with every step and, in the worst case, need to go an rest array size of 1. This case occurs when your element is the last element checked or if the array doesn't even contain it.\n",
    "<br>\n",
    "With this knowledge you can calculate the amount of steps x needed to get to a size of 1 like this (assuming n as the array size):\n",
    "<br>\n",
    "<br>\n",
    "$$\n",
    "n * \\frac{1}{2}^x = 1 \n",
    "\\Longrightarrow n * \\frac{1^x}{2^x} = n * \\frac{1}{2^x} = 1\n",
    "\\Longrightarrow n = 1 : \\frac{1}{2^x} = 1 * \\frac{2^x}{1} = 2^x\n",
    "\\Longrightarrow x = \\log_2{n}\n",
    "$$\n",
    "<br>\n",
    "<br>\n",
    "If we compare this to simply checking every element, we would at worst always need n steps, since if the element isn't contained, we have to check the entire array. This would be $\\mathcal{O}(n)$.\n",
    "<br>\n",
    "If you compare these two for small array sizes, the difference is negligible:\n",
    "    $$n = ~~5 \\longrightarrow \\lceil \\log_2(10)\\rceil = 3 $$\n",
    "    $$n = 10 \\longrightarrow \\lceil \\log_2(10)\\rceil = 4 $$\n",
    "    $$n = 20 \\longrightarrow \\lceil \\log_2(10)\\rceil = 5 $$\n",
    "    $$n = 50 \\longrightarrow \\lceil \\log_2(10)\\rceil = 6 $$\n",
    "<br>\n",
    "While for n = 5 or n = 10, the runtimes are still relatively close, you can see that when increasing n, the runtime for binary search barely increases, while for the simplistic approach of checking the entire array it increases linearly (it is always equal to n).\n",
    "<br>\n",
    "<br>\n",
    "**Note:** The weird brackets around the logarithm symbolize rounding upwards. The reason is that you can't have a number that is not round as the number of steps e.g. 2.643, so it must be the next highest integer. (And if e.g. 2.643 is your minimum, rounding down to 2 obviously doesn't work)\n",
    "<br>\n",
    "<br>\n",
    "<br>\n",
    "To see the huge difference this makes for large arrays, let's look at some bigger numbers:\n",
    "    $$n = 10,000 \\longrightarrow \\lceil \\log_2(10k) \\rceil = 14 $$\n",
    "    $$n = 100,000 \\longrightarrow \\lceil \\log_2(100k) \\rceil = 17 $$\n",
    "    $$n = 10,000,000 \\longrightarrow \\lceil \\log_2(10million) \\rceil = 24 $$\n",
    "    $$n = 10,000,000,000 \\longrightarrow \\lceil \\log_2(10billion) \\rceil = 34$$\n",
    "<br>\n",
    "With these big numbers, you can see the clear advantage of having a logarithmic runtime over a linear one. While linear grows slowly compared to exponential runtimes $(n^2)$, logarithm grow much much slower still."
   ]
  },
  {
   "cell_type": "markdown",
   "metadata": {},
   "source": [
    "## Code example"
   ]
  },
  {
   "cell_type": "code",
   "execution_count": 51,
   "metadata": {},
   "outputs": [],
   "source": [
    "# Returns the index of the value if found and None otherwise\n",
    "def binary_search(array, value):\n",
    "    low = 0\n",
    "    high = len(array) - 1\n",
    "    \n",
    "    while low <= high:\n",
    "        middle = low + round((high - low) / 2)\n",
    "        if array[middle] < value:\n",
    "            low = middle + 1\n",
    "        elif array[middle] > value:\n",
    "            high = middle - 1\n",
    "        else:\n",
    "            return middle\n",
    "    \n",
    "    return None"
   ]
  },
  {
   "cell_type": "code",
   "execution_count": 53,
   "metadata": {},
   "outputs": [],
   "source": [
    "# Maybe compare simplistic and binary_search visits?\n",
    "\n",
    "# Returns the index of the value if found and None otherwise\n",
    "def binary_search_recursive(array, value, low, high):\n",
    "    middle = low + round((high - low) / 2)\n",
    "    \n",
    "    if low > high:\n",
    "        return None\n",
    "    \n",
    "    if array[middle] < value:\n",
    "        return binary_search_recursive(array, value, middle + 1, high)\n",
    "    elif array[middle] > value:\n",
    "        return binary_search_recursive(array, value, low, middle - 1)\n",
    "    else:\n",
    "        return middle"
   ]
  },
  {
   "cell_type": "code",
   "execution_count": 59,
   "metadata": {},
   "outputs": [],
   "source": [
    "sorted_array = [1, 2, 4, 5, 6, 8, 9, 11]"
   ]
  },
  {
   "cell_type": "code",
   "execution_count": 60,
   "metadata": {},
   "outputs": [
    {
     "name": "stdout",
     "output_type": "stream",
     "text": [
      "Was looking for 0 : None\n",
      "Was looking for 1 : 0\n",
      "Was looking for 2 : 1\n",
      "Was looking for 3 : None\n",
      "Was looking for 4 : 2\n",
      "Was looking for 5 : 3\n",
      "Was looking for 6 : 4\n",
      "Was looking for 7 : None\n",
      "Was looking for 8 : 5\n",
      "Was looking for 9 : 6\n",
      "Was looking for 10 : None\n",
      "Was looking for 11 : 7\n"
     ]
    }
   ],
   "source": [
    "for x in range(12):\n",
    "    print(\"Was looking for\", x, \":\", binary_search(sorted_array, x))"
   ]
  },
  {
   "cell_type": "code",
   "execution_count": 61,
   "metadata": {},
   "outputs": [
    {
     "name": "stdout",
     "output_type": "stream",
     "text": [
      "Was looking for 0 : None\n",
      "Was looking for 1 : 0\n",
      "Was looking for 2 : 1\n",
      "Was looking for 3 : None\n",
      "Was looking for 4 : 2\n",
      "Was looking for 5 : 3\n",
      "Was looking for 6 : 4\n",
      "Was looking for 7 : None\n",
      "Was looking for 8 : 5\n",
      "Was looking for 9 : 6\n",
      "Was looking for 10 : None\n",
      "Was looking for 11 : 7\n"
     ]
    }
   ],
   "source": [
    "for x in range(12):\n",
    "    print(\"Was looking for\", x, \":\", binary_search_recursive(sorted_array, x, 0, len(sorted_array) - 1))"
   ]
  },
  {
   "cell_type": "code",
   "execution_count": null,
   "metadata": {},
   "outputs": [],
   "source": []
  }
 ],
 "metadata": {
  "kernelspec": {
   "display_name": "Python 3",
   "language": "python",
   "name": "python3"
  },
  "language_info": {
   "codemirror_mode": {
    "name": "ipython",
    "version": 3
   },
   "file_extension": ".py",
   "mimetype": "text/x-python",
   "name": "python",
   "nbconvert_exporter": "python",
   "pygments_lexer": "ipython3",
   "version": "3.6.7"
  }
 },
 "nbformat": 4,
 "nbformat_minor": 2
}
